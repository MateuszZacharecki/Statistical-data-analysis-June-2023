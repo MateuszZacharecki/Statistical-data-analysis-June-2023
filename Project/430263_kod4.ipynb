{
 "cells": [
  {
   "cell_type": "markdown",
   "id": "f5dc5270",
   "metadata": {},
   "source": [
    "Ostatecznie w rozwiązaniu zdecydowałem się umieścić regresyjną maszynę wektorów wspierających. Dlaczego zdecydowałem się na ten model? Po prostu lubię ten model i dla tych danych mógł się okazać całkiem dobrym modelem. Ostatecznie zdecydowałem się na umieszczenie tego modelu w tej wersji, która na leaderboardzie dała mi wynik 0.21465. Jest to najlepszy wynik, który uzyskałem dla parametrów gamma = 0.1, C = 1 oraz kernel = linear trenując na całym zbiorze treningowym. Jednak gdy ten sam model trenowałem na 75%, by sprawdzić uzyskany błąd walidacyjny, to błąd walidacyjny okazał się niezadowalający, a na dodatek wynik na leaderboardzie wyniósł powyżej 0.3. Podobnie było, gdy dla tych parametrów wprowadziłem jeszcze kroswalidacje z podziałami na 5 i 7 podzbiorów. Próbowałem też inne parametry, jak np. kernel = rbf i przy okazji regulowanie gammy oraz różne kroswalidacje, jednak nie dało to oczekiwanych rezultatów. Poza maszyną wektorów wspierających spróbowałem modeli Elastic Net oraz Random Forest z zadań 2 i 3, jednak wyniki były zdecydowanie poniżej oczekiwań. "
   ]
  },
  {
   "cell_type": "markdown",
   "id": "95d20a61",
   "metadata": {},
   "source": [
    "Rozważyłem też maszynę wektorów wspierających, dla której zdefiniowałem siatkę złożoną z parametrów: C - parametr regularyzacji: {0.1, 1, 10, 100, 1000}, gamma - parametr dla RBF: {1, 0.1, 0.01, 0.001, 0.0001}, kernel: {'rbf', 'linear'}. Był to zdecydowany rywal dla wybranego modelu i bardzo długo zastanawiałem się, czy go nie wybrać. Niestety zapomniałem sprawdzić, jakie parametry wybrała siatka, a model się liczył całą noc, więc już nie zdążyłem puścić go ponownie, co z kolei ograniczyło mocno ewentualne poprawianie wybranego przez siatkę modelu. Dla tego modelu dostałem wynik 0.26448, czyli istotnie gorszy od wyniku uzyskanego dla tego modelu, natomiast jest to wynik mimo wszystko całkiem dobry, a rozwiązanie wydaje się dużo pewniejsze i bezpieczniejsze. Uznałem jednak, że mimo że model, dla którego uzyskałem najlepszy wynik nie jest pewny, tzn. na pozostałych 70% zbioru może zawieść, to postanowiłem zaryzykować i postawiłem na ten model."
   ]
  },
  {
   "cell_type": "markdown",
   "id": "9eee7524",
   "metadata": {},
   "source": [
    "Regresyjna maszyna wektorów wspierających to model, w którym minimalizujemy funkcję\n",
    "$$J(\\beta) = \\frac{1}{2} \\beta'\\beta + C \\sum_{n=1}^N(\\xi_n + \\xi_n^*)$$\n",
    "przy warunkach\n",
    "$$\\forall_n: y_n - (x_n'\\beta + b) \\leq \\epsilon + \\xi_n$$\n",
    "$$\\forall_n: (x_n'\\beta + b) - y_n \\leq \\epsilon + \\xi_n^*$$\n",
    "$$\\forall_n: \\xi_n \\geq 0$$\n",
    "$$\\forall_n: \\xi_n^*\\geq 0$$\n",
    "$C$ jest pozytywną wartością regularyzującą model"
   ]
  },
  {
   "cell_type": "code",
   "execution_count": 1,
   "id": "f9f10c89",
   "metadata": {},
   "outputs": [],
   "source": [
    "#importujemy potrzebne biblioteki\n",
    "import pandas as pd\n",
    "import numpy as np\n",
    "from sklearn.svm import SVR\n",
    "from sklearn.preprocessing import MinMaxScaler\n",
    "#from sklearn.feature_selection import SelectKBest\n",
    "#from sklearn.feature_selection import chi2\n",
    "from sklearn import svm\n",
    "#from sklearn.model_selection import train_test_split\n",
    "#from sklearn.metrics import balanced_accuracy_score\n",
    "#from sklearn.feature_selection import RFE"
   ]
  },
  {
   "cell_type": "markdown",
   "id": "0668083a",
   "metadata": {},
   "source": [
    "Wczytuję dane:"
   ]
  },
  {
   "cell_type": "code",
   "execution_count": 2,
   "id": "9b4f2aaa",
   "metadata": {},
   "outputs": [],
   "source": [
    "X_train = pd.read_csv(\"X_train.csv\")\n",
    "y_train = pd.read_csv(\"y_train.csv\")\n",
    "X_test = pd.read_csv(\"X_test.csv\")"
   ]
  },
  {
   "cell_type": "markdown",
   "id": "e32a8499",
   "metadata": {},
   "source": [
    "Skaluję dane:"
   ]
  },
  {
   "cell_type": "code",
   "execution_count": 3,
   "id": "8a97fcdf",
   "metadata": {},
   "outputs": [],
   "source": [
    "min_on_training = X_train.min(axis=0) \n",
    "range_on_training = (X_train - min_on_training).max(axis=0)\n",
    "X_train_scaled = (X_train - min_on_training) / range_on_training\n",
    "X_test_scaled = (X_test - min_on_training) / range_on_training"
   ]
  },
  {
   "cell_type": "markdown",
   "id": "49ab0936",
   "metadata": {},
   "source": [
    "Definiuję i trenuję model:"
   ]
  },
  {
   "cell_type": "code",
   "execution_count": 4,
   "id": "e7b639ce",
   "metadata": {},
   "outputs": [],
   "source": [
    "clf = svm.SVR(kernel='linear', C=1, gamma=0.1)"
   ]
  },
  {
   "cell_type": "code",
   "execution_count": 5,
   "id": "a2b40251",
   "metadata": {},
   "outputs": [
    {
     "data": {
      "text/plain": [
       "SVR(C=1, gamma=0.1, kernel='linear')"
      ]
     },
     "execution_count": 5,
     "metadata": {},
     "output_type": "execute_result"
    }
   ],
   "source": [
    "clf.fit(X_train_scaled, y_train['Expected'])"
   ]
  },
  {
   "cell_type": "markdown",
   "id": "cddd8282",
   "metadata": {},
   "source": [
    "Predykcje:"
   ]
  },
  {
   "cell_type": "code",
   "execution_count": 6,
   "id": "ace618d8",
   "metadata": {},
   "outputs": [],
   "source": [
    "y_pred = clf.predict(X_test_scaled)"
   ]
  },
  {
   "cell_type": "code",
   "execution_count": 7,
   "id": "a5022a7c",
   "metadata": {},
   "outputs": [
    {
     "data": {
      "text/plain": [
       "array([0.96359768, 1.8009981 , 6.96395311, 1.98571098, 1.28706772,\n",
       "       0.77481968, 4.74292683, 7.27470432, 1.92084502, 1.68443822,\n",
       "       6.96014424, 1.06033131, 1.46648622, 1.19028158, 0.77026219,\n",
       "       0.64994597, 1.19832661, 2.22141006, 1.27117822, 2.74037047,\n",
       "       1.58465262, 2.81843598, 1.84519885, 1.64256531, 6.9936589 ,\n",
       "       1.59108213, 1.72010682, 1.0766288 , 1.77146003, 1.03365566,\n",
       "       1.81001377, 7.11066262, 6.92773527, 1.40432486, 7.2506964 ,\n",
       "       1.51998636, 1.31189029, 1.47368836, 1.24347113, 6.9820157 ,\n",
       "       1.79822207, 6.93763837, 5.7946165 , 6.64533612, 6.82385654,\n",
       "       1.09708668, 1.38686513, 0.79067098, 6.7811328 , 6.99145475,\n",
       "       0.27453284, 0.94306187, 1.39621908, 1.10947301, 1.43368659,\n",
       "       2.77138919, 5.84891306, 1.1492667 , 6.65909646, 1.82960276,\n",
       "       7.01369776, 3.69790918, 1.67249977, 1.79802882, 0.91475002,\n",
       "       1.3190424 , 6.95218722, 7.0040139 , 1.31158713, 1.39401397,\n",
       "       6.76635422, 1.08648023, 1.89564189, 6.92962757, 0.51900997,\n",
       "       7.25689415, 1.66934128, 0.74251622, 7.0902069 , 1.45055569,\n",
       "       1.88060334, 2.90558535, 5.40649825, 1.317494  , 6.85138514,\n",
       "       6.67770593, 6.52712113, 7.14139637, 6.41477002, 0.98627878,\n",
       "       1.18297611, 6.88825566, 0.95973705, 1.3292033 , 6.49556003,\n",
       "       6.74205818, 6.41326175, 5.20055563, 2.29683649, 1.40455424,\n",
       "       0.72772221, 0.69014486, 7.1604553 , 0.81310392, 1.48481247,\n",
       "       0.94294954, 1.18561183, 2.42594517, 1.22124769, 1.13908757,\n",
       "       7.37858864, 6.81577976, 0.53789627, 0.98686856, 6.87399323,\n",
       "       1.68780179, 6.86602021, 2.02282671, 1.18887135, 7.11794502,\n",
       "       0.7450283 , 0.93949381, 7.20047524, 2.52104346, 2.34238731,\n",
       "       0.75118745, 6.97074041, 7.06306994, 1.46580184, 7.1309046 ,\n",
       "       1.2799329 , 1.4347342 , 6.90322554, 1.56676163, 1.56333251,\n",
       "       7.14151881, 1.66029765, 1.06772579, 1.25739361, 1.54056634,\n",
       "       6.99618756, 1.60036382, 6.56302984, 6.95754731, 6.46174596,\n",
       "       7.16481963, 0.40238933, 0.72041204, 0.68285828, 7.01961039,\n",
       "       7.15498052, 1.44063316, 7.02953574, 1.11917201, 0.9718377 ,\n",
       "       1.66335428, 0.41610808, 0.96655061, 1.02104614, 0.80878599,\n",
       "       0.79684203, 6.69195853, 1.03313096, 0.86009115, 6.97009563,\n",
       "       1.24961862, 1.20367716, 1.24448396, 7.29748395, 1.40584588,\n",
       "       6.93397298, 6.49081429, 1.66635452, 0.99089922, 1.96406038,\n",
       "       1.17354025, 0.79789524, 1.19624011, 1.46965185, 0.81782845,\n",
       "       1.66471634, 0.82870283, 1.59614116, 1.20483897, 0.78576822,\n",
       "       7.08296634, 1.26731526, 0.89824184, 7.19474557, 1.62465996,\n",
       "       0.4975098 , 0.83493274, 1.5588484 , 7.13357177, 6.83421848,\n",
       "       2.30365451, 7.01217988, 1.41238511, 6.27957876, 0.87009929,\n",
       "       1.77877065, 0.43103981, 1.14106185, 0.57724528, 7.06530295,\n",
       "       7.08174086, 1.28133058, 0.57857516, 6.61901932, 1.23892298,\n",
       "       1.06605412, 6.92243171, 2.3739726 , 1.22166375, 1.36119912,\n",
       "       0.78799896, 1.6393916 , 6.99682105, 0.65650106, 6.17640828,\n",
       "       1.4193635 , 1.64397724, 2.17867888, 0.97354339, 1.33414085,\n",
       "       1.23032848, 2.21589202, 6.7546496 , 1.66618514, 6.80348458,\n",
       "       6.87252447, 7.42155231, 0.91755087, 1.11378581, 1.3494758 ,\n",
       "       6.84235781, 1.50299254, 1.92902861, 1.04318684, 2.07112594,\n",
       "       1.22414392, 0.93777905, 0.88239097, 1.40615578, 0.99506634,\n",
       "       1.22913525, 1.02675839, 7.06896052, 7.00103862, 1.28603927,\n",
       "       1.6510306 , 1.98469541, 0.99901324, 1.36020199, 7.00813974,\n",
       "       0.92353567, 7.07580831, 6.73723305, 1.0660666 , 1.11094401,\n",
       "       7.2436992 , 1.0451355 , 0.96816453, 1.23196068, 0.81482811,\n",
       "       6.3719585 , 1.00346566, 0.61936771, 6.69100702, 6.91375246,\n",
       "       1.57291321, 1.07676957, 0.98732434, 1.15631168, 6.97761571,\n",
       "       1.05405514, 1.76318599, 1.29641034, 1.16751458, 0.91216015,\n",
       "       0.71464785, 1.41377418, 1.40605965, 1.48472773, 1.32038232,\n",
       "       1.59720062, 1.21095023, 1.87042334, 1.85545607, 1.02285553,\n",
       "       6.8018571 , 3.17173377, 2.60681801, 1.6068537 , 6.99087315,\n",
       "       6.94729472, 0.84833628, 6.57686452, 1.98322983, 1.0819653 ,\n",
       "       0.77973695, 0.9425765 , 1.18250243, 2.56397381, 1.53124994,\n",
       "       0.94911016, 1.6470208 , 0.82863081, 2.37299412, 1.46254193,\n",
       "       2.57205196, 0.68731085, 1.55001883, 1.47965194, 0.87570385,\n",
       "       0.88262079, 1.52223482, 7.34785938, 1.09295603, 1.77581947,\n",
       "       1.31447079, 1.2328754 , 1.25698637, 1.01057861, 2.14891197,\n",
       "       1.78393627, 1.27251354, 7.10420335, 0.98889897, 0.52168753,\n",
       "       1.35152805, 1.08187575, 0.93970918, 1.28517869, 1.57262601,\n",
       "       2.2112975 , 0.60947013, 1.2593733 , 6.88394875, 6.84423998,\n",
       "       1.00058675, 1.685419  , 2.26010221, 2.85329903, 3.71192413,\n",
       "       6.77120144, 1.11233751, 1.91653434, 6.8972539 , 1.11013245,\n",
       "       2.09687553, 0.65107066, 0.91935634, 0.82413027, 1.0250582 ,\n",
       "       1.6031743 , 1.60788494, 1.4864247 , 1.44396483, 1.40993923,\n",
       "       1.17321799, 1.02397401, 0.66801787, 1.255681  , 1.40393859,\n",
       "       0.72479816, 1.19163859, 1.90464949, 0.8900181 , 2.54350343,\n",
       "       1.83490219, 1.00085392, 0.81247846, 1.26786614, 1.31950799,\n",
       "       1.24183032, 6.99543417, 2.40930797, 0.72056141, 4.88863451,\n",
       "       6.81533791, 1.66858092, 2.08325457, 1.26412906, 6.83424979,\n",
       "       0.71960657, 1.73141424, 0.97902177, 1.38256889, 1.22361569,\n",
       "       0.96469585, 7.25601738, 1.33456004, 1.09536671, 0.82240165,\n",
       "       3.07555095, 7.03507487, 7.04051166, 6.88118185, 1.65306804,\n",
       "       7.23010296, 1.37612741, 6.77918026, 6.84654108, 1.48331972,\n",
       "       1.17230353, 1.19926891, 1.91384455, 0.94598651, 1.92875919,\n",
       "       0.5564231 , 1.06466925, 6.82144919, 0.8439655 , 1.18382212,\n",
       "       1.11754716, 1.54868929, 1.03821546, 1.76123353, 1.82425411,\n",
       "       1.17073675, 3.61449954, 3.04922604, 2.65150625, 6.67160434,\n",
       "       1.19722105, 0.94541814, 6.98912926, 2.01366165, 5.48764218,\n",
       "       6.48753256, 1.29260348, 0.70608294, 6.89743465, 6.85760448,\n",
       "       1.28809813, 6.39891904, 2.1499057 , 0.60342828, 0.72306953,\n",
       "       0.56031679, 2.15971172, 7.08518338, 3.52015494, 1.63192981,\n",
       "       1.28508406, 5.90766267, 0.57303741, 6.34243337, 7.11720936,\n",
       "       1.26459548, 6.94979275, 1.87906361, 0.95598133, 1.66072699,\n",
       "       6.54783884, 0.82814287, 0.95193341, 6.02479439, 0.86854816,\n",
       "       6.86530697, 3.03116034, 2.04779554, 1.36568333, 7.73654332,\n",
       "       6.96662967, 1.64224997, 0.72259896, 1.84719066, 1.02085847,\n",
       "       2.36853983, 7.06294621, 0.86020008, 1.32853048, 1.65726308,\n",
       "       1.00767373, 1.05030397, 1.23834016, 1.15244158, 3.46128914,\n",
       "       6.85150308, 0.62130206, 0.72574726, 0.63253822, 4.33060966,\n",
       "       7.12508475, 6.55103134, 2.43912918, 0.9111299 , 0.86507556,\n",
       "       1.81220767, 4.78405259, 6.53323226, 1.35011983, 6.5390276 ,\n",
       "       1.58790157, 0.97546092, 1.19864596, 2.24622638, 1.96760052,\n",
       "       1.28030277, 6.67110737, 6.46447615, 7.04328844, 0.82027555,\n",
       "       1.41347798, 0.8142414 , 0.93117697, 2.81427186, 1.30299193,\n",
       "       7.1217727 , 0.68931464, 6.27704958, 7.45028039, 0.47434724,\n",
       "       0.91085304, 6.90323476, 6.07183545, 3.43566507, 1.55866393,\n",
       "       1.88164324, 1.07675831, 2.40963851, 1.04823481, 7.03875171,\n",
       "       1.73077914, 0.68657475, 1.04039887, 1.31466564, 1.3279314 ,\n",
       "       6.72012364, 2.41196276, 0.92172614, 6.92056771, 5.97167426,\n",
       "       1.52320095, 1.21533972, 1.84380173, 1.00093086, 1.41092936,\n",
       "       1.07830905, 0.8460835 , 1.72822217, 6.98217235, 0.92056654,\n",
       "       6.51988956, 2.25283522, 1.13932763, 2.09557097, 2.1447308 ,\n",
       "       0.91072396, 1.43983033, 0.33717195, 2.95362595, 7.14635909,\n",
       "       1.072674  , 0.6960665 , 3.03086047, 1.56150811, 1.21868237,\n",
       "       0.73293253, 2.04144343, 0.75576432, 6.74859092, 1.67119065,\n",
       "       1.08035982, 1.17241285, 1.19451774, 6.54998018, 1.30574248,\n",
       "       7.1746258 , 0.87714621, 5.33310023, 2.11132623, 1.85135096,\n",
       "       1.34655571, 1.06833935, 0.80308676, 0.69692493, 2.11816449,\n",
       "       6.58394955, 1.31304203, 7.29588059, 1.10074114, 7.14176654,\n",
       "       1.96119276, 1.01978246, 1.29337056, 1.04136954, 1.53687307,\n",
       "       1.09812088, 1.62016282, 0.98729674, 1.13292595, 2.08167001,\n",
       "       6.47431056, 1.34292197, 1.64739727, 1.88174123, 0.7737163 ,\n",
       "       1.3666496 , 1.47140612, 7.14358884, 1.73699786, 1.48764871,\n",
       "       2.06150736, 1.18583414, 6.67301929, 6.31936836, 0.94948513,\n",
       "       3.81244039, 1.07643352, 1.29442565, 0.67000609, 6.93244488,\n",
       "       7.22207582, 6.86966909, 7.24527494, 0.66848883, 0.51782683,\n",
       "       0.73976458, 0.58100622, 1.53741029, 1.31085778, 1.07335152,\n",
       "       0.88076701, 1.34684959, 1.14976844, 1.03535321, 6.69823898,\n",
       "       7.03753608, 1.73160765, 0.87816846, 1.1889231 , 0.78002341,\n",
       "       1.29453492, 1.29552884, 7.15438402, 7.16351324, 1.64730345,\n",
       "       1.18758248, 1.34495019, 7.15170406, 6.79407846, 1.06642541,\n",
       "       1.53193793, 1.7467051 , 6.75812166, 1.92447631, 1.71711967,\n",
       "       1.27385792, 7.07850776, 0.95407099, 2.56934049, 1.37669639,\n",
       "       0.60460971, 6.93942012, 1.17749317, 1.00935969, 1.4214234 ,\n",
       "       2.29337203, 1.23944407, 1.14232041, 1.09046529, 1.49348838,\n",
       "       1.07489165, 1.33906958, 6.77716216, 1.05084972, 0.73831321])"
      ]
     },
     "execution_count": 7,
     "metadata": {},
     "output_type": "execute_result"
    }
   ],
   "source": [
    "y_pred"
   ]
  },
  {
   "cell_type": "markdown",
   "id": "c4fb869e",
   "metadata": {},
   "source": [
    "Przygotowanie danych do zapisania do pliku:"
   ]
  },
  {
   "cell_type": "code",
   "execution_count": 8,
   "id": "832e23ad",
   "metadata": {},
   "outputs": [],
   "source": [
    "data = {\n",
    "  \"Id\": np.arange(0,670),\n",
    "  \"Expected\": y_pred\n",
    "}"
   ]
  },
  {
   "cell_type": "code",
   "execution_count": 9,
   "id": "c6e348a7",
   "metadata": {},
   "outputs": [],
   "source": [
    "SVM = pd.DataFrame(data)"
   ]
  },
  {
   "cell_type": "code",
   "execution_count": 10,
   "id": "fee1cf8e",
   "metadata": {},
   "outputs": [
    {
     "data": {
      "text/html": [
       "<div>\n",
       "<style scoped>\n",
       "    .dataframe tbody tr th:only-of-type {\n",
       "        vertical-align: middle;\n",
       "    }\n",
       "\n",
       "    .dataframe tbody tr th {\n",
       "        vertical-align: top;\n",
       "    }\n",
       "\n",
       "    .dataframe thead th {\n",
       "        text-align: right;\n",
       "    }\n",
       "</style>\n",
       "<table border=\"1\" class=\"dataframe\">\n",
       "  <thead>\n",
       "    <tr style=\"text-align: right;\">\n",
       "      <th></th>\n",
       "      <th>Id</th>\n",
       "      <th>Expected</th>\n",
       "    </tr>\n",
       "  </thead>\n",
       "  <tbody>\n",
       "    <tr>\n",
       "      <th>0</th>\n",
       "      <td>0</td>\n",
       "      <td>0.963598</td>\n",
       "    </tr>\n",
       "    <tr>\n",
       "      <th>1</th>\n",
       "      <td>1</td>\n",
       "      <td>1.800998</td>\n",
       "    </tr>\n",
       "    <tr>\n",
       "      <th>2</th>\n",
       "      <td>2</td>\n",
       "      <td>6.963953</td>\n",
       "    </tr>\n",
       "    <tr>\n",
       "      <th>3</th>\n",
       "      <td>3</td>\n",
       "      <td>1.985711</td>\n",
       "    </tr>\n",
       "    <tr>\n",
       "      <th>4</th>\n",
       "      <td>4</td>\n",
       "      <td>1.287068</td>\n",
       "    </tr>\n",
       "    <tr>\n",
       "      <th>...</th>\n",
       "      <td>...</td>\n",
       "      <td>...</td>\n",
       "    </tr>\n",
       "    <tr>\n",
       "      <th>665</th>\n",
       "      <td>665</td>\n",
       "      <td>1.074892</td>\n",
       "    </tr>\n",
       "    <tr>\n",
       "      <th>666</th>\n",
       "      <td>666</td>\n",
       "      <td>1.339070</td>\n",
       "    </tr>\n",
       "    <tr>\n",
       "      <th>667</th>\n",
       "      <td>667</td>\n",
       "      <td>6.777162</td>\n",
       "    </tr>\n",
       "    <tr>\n",
       "      <th>668</th>\n",
       "      <td>668</td>\n",
       "      <td>1.050850</td>\n",
       "    </tr>\n",
       "    <tr>\n",
       "      <th>669</th>\n",
       "      <td>669</td>\n",
       "      <td>0.738313</td>\n",
       "    </tr>\n",
       "  </tbody>\n",
       "</table>\n",
       "<p>670 rows × 2 columns</p>\n",
       "</div>"
      ],
      "text/plain": [
       "      Id  Expected\n",
       "0      0  0.963598\n",
       "1      1  1.800998\n",
       "2      2  6.963953\n",
       "3      3  1.985711\n",
       "4      4  1.287068\n",
       "..   ...       ...\n",
       "665  665  1.074892\n",
       "666  666  1.339070\n",
       "667  667  6.777162\n",
       "668  668  1.050850\n",
       "669  669  0.738313\n",
       "\n",
       "[670 rows x 2 columns]"
      ]
     },
     "execution_count": 10,
     "metadata": {},
     "output_type": "execute_result"
    }
   ],
   "source": [
    "SVM"
   ]
  },
  {
   "cell_type": "code",
   "execution_count": 11,
   "id": "5111e9a6",
   "metadata": {},
   "outputs": [],
   "source": [
    "SVM.to_csv(\"SVM.csv\")"
   ]
  },
  {
   "cell_type": "code",
   "execution_count": null,
   "id": "8fb33476",
   "metadata": {},
   "outputs": [],
   "source": []
  }
 ],
 "metadata": {
  "kernelspec": {
   "display_name": "Python 3 (ipykernel)",
   "language": "python",
   "name": "python3"
  },
  "language_info": {
   "codemirror_mode": {
    "name": "ipython",
    "version": 3
   },
   "file_extension": ".py",
   "mimetype": "text/x-python",
   "name": "python",
   "nbconvert_exporter": "python",
   "pygments_lexer": "ipython3",
   "version": "3.9.13"
  }
 },
 "nbformat": 4,
 "nbformat_minor": 5
}
